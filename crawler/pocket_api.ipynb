{
 "cells": [
  {
   "cell_type": "code",
   "execution_count": 1,
   "metadata": {
    "collapsed": true
   },
   "outputs": [],
   "source": [
    "import requests\n",
    "import json\n",
    "import webbrowser\n",
    "from urllib.parse import urlsplit\n",
    "import os"
   ]
  },
  {
   "cell_type": "code",
   "execution_count": 2,
   "metadata": {
    "collapsed": true
   },
   "outputs": [],
   "source": [
    "consumer_key = os.environ['POCKET_CONSUMER_KEY']\n",
    "redirect_uri = 'https://www.google.com'"
   ]
  },
  {
   "cell_type": "code",
   "execution_count": 3,
   "metadata": {
    "collapsed": true
   },
   "outputs": [],
   "source": [
    "url = 'https://getpocket.com/v3/oauth/request'\n",
    "payload = {\n",
    "    'consumer_key': consumer_key,\n",
    "    'redirect_uri': redirect_uri\n",
    "}\n",
    "headers = {\n",
    "    'Host': 'getpocket.com',\n",
    "    'Content-Type': 'application/json; charset=UTF-8',\n",
    "    'X-Accept': 'application/json'\n",
    "}\n",
    "r = requests.post(url, json=payload, headers=headers)\n",
    "code = r.json()['code']"
   ]
  },
  {
   "cell_type": "code",
   "execution_count": 4,
   "metadata": {},
   "outputs": [
    {
     "data": {
      "text/plain": [
       "True"
      ]
     },
     "execution_count": 4,
     "metadata": {},
     "output_type": "execute_result"
    }
   ],
   "source": [
    "url = 'https://getpocket.com/auth/authorize?request_token=' + code + '&redirect_uri=' + redirect_uri\n",
    "r = requests.get(url)\n",
    "webbrowser.open(r.url)"
   ]
  },
  {
   "cell_type": "code",
   "execution_count": 5,
   "metadata": {
    "collapsed": true
   },
   "outputs": [],
   "source": [
    "url = ' https://getpocket.com/v3/oauth/authorize'\n",
    "payload = {\n",
    "    'consumer_key': consumer_key,\n",
    "    'code': code\n",
    "}\n",
    "r = requests.post(url, json=payload, headers=headers)\n",
    "access_token = r.json()['access_token']\n",
    "username = r.json()['username']"
   ]
  },
  {
   "cell_type": "code",
   "execution_count": 6,
   "metadata": {},
   "outputs": [
    {
     "data": {
      "text/plain": [
       "{'excerpt': 'WHEN he was unexpectedly elected Argentina’s president in 2015 Mauricio Macri faced a task that was about as simple as walking a tightrope across the Iguazú falls while grilling a steak. His predecessor, Cristina Fernández de Kirchner, had bequeathed a make-believe economy.',\n",
       " 'favorite': '0',\n",
       " 'given_title': 'The crisis of Argentine gradualism - Bello',\n",
       " 'given_url': 'https://www.economist.com/news/americas/21741601-world-economy-makes-mauricio-macris-job-harder-crisis-argentine-gradualism?cid1=cust/ddnew/email/n/n/2018054n/owned/n/n/ddnew/n/n/n/nLA/Daily_Dispatch/email&etear=dailydispatch&utm_source=newsletter&utm_medium=email&utm_campaign=Daily_Dispatch&utm_term=2018054',\n",
       " 'has_image': '1',\n",
       " 'has_video': '0',\n",
       " 'is_article': '1',\n",
       " 'is_index': '0',\n",
       " 'item_id': '2176101568',\n",
       " 'resolved_id': '2174843008',\n",
       " 'resolved_title': 'The crisis of Argentine gradualism',\n",
       " 'resolved_url': 'https://www.economist.com/news/americas/21741601-world-economy-makes-mauricio-macris-job-harder-crisis-argentine-gradualism',\n",
       " 'sort_id': 0,\n",
       " 'status': '0',\n",
       " 'time_added': '1525455330',\n",
       " 'time_favorited': '0',\n",
       " 'time_read': '0',\n",
       " 'time_updated': '1525455330',\n",
       " 'top_image_url': 'https://cdn.static-economist.com/sites/default/files/images/print-edition/20180505_AMD001_0.jpg',\n",
       " 'word_count': '807'}"
      ]
     },
     "execution_count": 6,
     "metadata": {},
     "output_type": "execute_result"
    }
   ],
   "source": [
    "url = ' https://getpocket.com/v3/get'\n",
    "payload = {\n",
    "    'consumer_key': consumer_key,\n",
    "    'access_token': access_token,\n",
    "    'sort': 'newest',\n",
    "    \"detailType\":\"simple\"\n",
    "}\n",
    "r = requests.post(url, json=payload, headers=headers)\n",
    "next (iter (r.json()['list'].values()))"
   ]
  },
  {
   "cell_type": "code",
   "execution_count": 7,
   "metadata": {},
   "outputs": [
    {
     "name": "stdout",
     "output_type": "stream",
     "text": [
      "https://www.economist.com/news/finance-and-economics/21741558-returns-education-over-past-half-century-have-beaten-american?cid1=cust/ddnew/email/n/n/2018053n/owned/n/n/ddnew/n/n/n/nLA/Daily_Dispatch/email&etear=dailydispatch&utm_source=newsletter&utm_medium=email&utm_campaign=Daily_Dispatch&utm_term=2018053\n",
      "https://www.economist.com/news/world-week/21741607-business-week?cid1=cust/ednew/n/bl/n/2018053n/owned/n/n/nwl/n/n/LA/118974/n&utm_source=newsletter&utm_medium=email&utm_campaign=Editors_Picks&utm_term=2018053\n",
      "https://www.economist.com/news/leaders/21741546-complacent-reckless-leaders-have-forgotten-how-valuable-it-restrain-nuclear?cid1=cust/ednew/n/bl/n/2018053n/owned/n/n/nwl/n/n/LA/118974/n&utm_source=newsletter&utm_medium=email&utm_campaign=Editors_Picks&utm_term=2018053\n",
      "https://www.economist.com/blogs/openfuture/2018/04/open-ideas?cid1=cust/ddnew/email/n/n/20180423n/owned/n/n/ddnew/n/n/n/nLA/Daily_Dispatch/email&etear=dailydispatch&utm_source=newsletter&utm_medium=email&utm_campaign=Daily_Dispatch&utm_term=20180423\n",
      "https://www.economist.com/news/leaders/21740735-humans-have-had-good-run-most-recent-breakthrough-robotics-it-clear?cid1=cust/ednew/n/bl/n/20180419n/owned/n/n/nwl/n/n/LA/114775/n&utm_source=newsletter&utm_medium=email&utm_campaign=Editors_Picks&utm_term=20180419\n",
      "https://www.economist.com/news/europe/21739997-europeans-asking-facebook-their-data-run-maze-obstacles-eu-guarantees-its\n",
      "https://www.economist.com/news/finance-and-economics/21739934-music-streaming-service-opts-unconventional-direct-listing-spotify-makes\n",
      "https://www.economist.com/news/business/21739695-corporate-crises-drive-media-and-politicians-wild-do-they-damage-shareholder\n",
      "https://www.economist.com/news/science-and-technology/21740165-stripping-our-identifying-information-they-are-still-able-do\n",
      "https://www.economist.com/news/business/21739981-road-ahead-elon-musks-car-company-looking-more-perilous-tesla-heading-cash\n",
      "https://www.economist.com/news/united-states/21739939-class-divides-are-replacing-overt-racism-should-be-call-action\n",
      "https://www.economist.com/news/science-and-technology/21739145-skinner-box-software-understand-digital-advertising-study-its-algorithms?mkt_tok=eyJpIjoiT1RFelptTmhPR1prT1RRMiIsInQiOiJoTytmZnZlMVEzXC9FT0F2N1RBR3hGQ1lOeTYxOW14SUdSV0FpakRzSWZQbExxVXNlUWFCWVluYVVZaFFFMTlVMndQK0N6RkxLRDN6SmJDZ2RTTkNUXC85aGtaSzFhV25TM1gyRzJXelZiT243R1paV0dub01QK3JLTzh6dHVoS1R1In0%3D\n",
      "https://www.economist.com/news/special-report/21739431-artificial-intelligence-spreading-beyond-technology-sector-big-consequences?utm_source=Benedict%27s+newsletter&utm_campaign=eee2854296-Benedict%27s+Newsletter&utm_medium=email&utm_term=0_4999ca107f-eee2854296-70650765\n",
      "http://www.economist.com/news/finance-and-economics/21734390-and-new-paper-proposes-should-data-providers-unionise-should-internet?frsc=dg|e\n"
     ]
    }
   ],
   "source": [
    "for key, value in r.json()['list'].items():\n",
    "    url = value['given_url']\n",
    "    base_url = \"{0.scheme}://{0.netloc}/\".format(urlsplit(url))\n",
    "    if 'economist.com' in base_url:\n",
    "        print(value['given_url'])"
   ]
  },
  {
   "cell_type": "code",
   "execution_count": null,
   "metadata": {
    "collapsed": true
   },
   "outputs": [],
   "source": []
  }
 ],
 "metadata": {
  "kernelspec": {
   "display_name": "Python 3",
   "language": "python",
   "name": "python3"
  },
  "language_info": {
   "codemirror_mode": {
    "name": "ipython",
    "version": 3
   },
   "file_extension": ".py",
   "mimetype": "text/x-python",
   "name": "python",
   "nbconvert_exporter": "python",
   "pygments_lexer": "ipython3",
   "version": "3.6.5"
  }
 },
 "nbformat": 4,
 "nbformat_minor": 2
}
