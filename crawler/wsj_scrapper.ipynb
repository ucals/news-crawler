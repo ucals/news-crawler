{
 "cells": [
  {
   "cell_type": "code",
   "execution_count": 1,
   "metadata": {
    "collapsed": true
   },
   "outputs": [],
   "source": [
    "import os\n",
    "import requests\n",
    "from time import sleep\n",
    "from bs4 import BeautifulSoup\n",
    "from selenium import webdriver\n",
    "from selenium.webdriver.firefox.options import Options\n",
    "\n",
    "options = Options()\n",
    "options.set_headless(headless=True)\n",
    "driver = webdriver.Firefox(firefox_options=options)"
   ]
  },
  {
   "cell_type": "code",
   "execution_count": 2,
   "metadata": {
    "collapsed": true
   },
   "outputs": [],
   "source": [
    "url = 'https://www.wsj.com/articles/only-a-fraction-of-russian-troll-accounts-have-been-made-public-by-social-med' \\\n",
    "          'ia-giants-1525448056'\n",
    "filename = '/Users/carlos/Downloads/bstest.html'"
   ]
  },
  {
   "cell_type": "code",
   "execution_count": 3,
   "metadata": {
    "collapsed": true
   },
   "outputs": [],
   "source": [
    "driver.get(url)\n",
    "sleep(10)\n",
    "driver.find_elements_by_xpath(\"//*[contains(text(), 'Sign In')]\")[0].click()\n",
    "inputElement = driver.find_element_by_id(\"username\")\n",
    "inputElement.send_keys(os.environ['WSJ_USER'])\n",
    "inputElement = driver.find_element_by_id(\"password\")\n",
    "inputElement.send_keys(os.environ['WSJ_PASS'])\n",
    "driver.find_elements_by_class_name(\"solid-button.basic-login-submit\")[0].click()"
   ]
  },
  {
   "cell_type": "code",
   "execution_count": 4,
   "metadata": {
    "collapsed": true
   },
   "outputs": [],
   "source": [
    "sleep(10)\n",
    "contents = driver.page_source\n",
    "soup = BeautifulSoup(contents, 'html.parser')"
   ]
  },
  {
   "cell_type": "code",
   "execution_count": 5,
   "metadata": {
    "collapsed": true
   },
   "outputs": [],
   "source": [
    "article = soup.find('article')\n",
    "\n",
    "# Removing non-content\n",
    "for id_name in ['ad_and_popular', 'share-target']:\n",
    "    val = article.find(id=id_name)\n",
    "    if val is not None:\n",
    "        val.decompose()\n",
    "\n",
    "for class_name in ['.comments-count-container', '.author.mobile-scrim', '.byline', '.category']:\n",
    "    for val in article.select(class_name):\n",
    "        if val is not None:\n",
    "            val.decompose()\n",
    "    \n",
    "# Format images\n",
    "for val in article.select('.image-container.responsive-media'):\n",
    "    if val is not None:\n",
    "        new_tag = soup.new_tag('img')\n",
    "        new_tag.attrs['src'] = val.find('img').attrs['src']\n",
    "        val.replace_with(new_tag)"
   ]
  },
  {
   "cell_type": "code",
   "execution_count": 41,
   "metadata": {
    "collapsed": true
   },
   "outputs": [],
   "source": [
    "content = article.prettify(\"latin-1\")\n",
    "with open(filename, 'wb') as file:\n",
    "    file.write(content)"
   ]
  },
  {
   "cell_type": "code",
   "execution_count": 42,
   "metadata": {
    "collapsed": true
   },
   "outputs": [],
   "source": [
    "driver.quit()"
   ]
  },
  {
   "cell_type": "code",
   "execution_count": null,
   "metadata": {
    "collapsed": true
   },
   "outputs": [],
   "source": []
  }
 ],
 "metadata": {
  "kernelspec": {
   "display_name": "Python 3",
   "language": "python",
   "name": "python3"
  },
  "language_info": {
   "codemirror_mode": {
    "name": "ipython",
    "version": 3
   },
   "file_extension": ".py",
   "mimetype": "text/x-python",
   "name": "python",
   "nbconvert_exporter": "python",
   "pygments_lexer": "ipython3",
   "version": "3.6.5"
  }
 },
 "nbformat": 4,
 "nbformat_minor": 2
}
