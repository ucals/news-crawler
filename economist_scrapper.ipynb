{
 "cells": [
  {
   "cell_type": "code",
   "execution_count": 109,
   "metadata": {},
   "outputs": [],
   "source": [
    "import requests\n",
    "from bs4 import BeautifulSoup, UnicodeDammit"
   ]
  },
  {
   "cell_type": "code",
   "execution_count": 110,
   "metadata": {
    "collapsed": true
   },
   "outputs": [],
   "source": [
    "url = 'https://www.economist.com/news/leaders/21741138-case-it-powerful-oneincluding-poor-countries-universal-health-care-worldwide'\n",
    "filename = '/Users/carlos/Downloads/bstest.html'"
   ]
  },
  {
   "cell_type": "code",
   "execution_count": 111,
   "metadata": {
    "collapsed": true
   },
   "outputs": [],
   "source": [
    "page = requests.get(url)\n",
    "contents = page.content\n",
    "soup = BeautifulSoup(contents, 'html.parser')"
   ]
  },
  {
   "cell_type": "code",
   "execution_count": 112,
   "metadata": {},
   "outputs": [],
   "source": [
    "article = soup.find('article')\n",
    "\n",
    "# Removing non-content\n",
    "for val in article.select('.blog-post__asideable-wrapper'):\n",
    "    val.decompose()\n",
    "for val in article.select('.newsletter-form.newsletter-form--inline'):\n",
    "    val.decompose()\n",
    "for val in article.select('.latest-updates-panel__container.latest-updates-panel__container--blog-post'):\n",
    "    val.decompose()\n",
    "for val in article.select('.blog-post__bottom-panel'):\n",
    "    val.decompose()\n",
    "for val in article.select('.ad-panel__container--block'):\n",
    "    val.decompose()\n",
    "    \n",
    "# Formatting headers\n",
    "for val in article.select('.blog-post__rubric'):\n",
    "    new_tag = soup.new_tag('h3')\n",
    "    new_tag.string = val.get_text()\n",
    "    val.replace_with(new_tag)\n",
    "    \n",
    "for val in article.select('.xhead'):\n",
    "    new_tag = soup.new_tag('h4')\n",
    "    new_tag.string = val.get_text()\n",
    "    val.replace_with(new_tag)\n",
    "    \n",
    "# Format hero image\n",
    "for val in article.select('.component-image__img.blog-post__image-block'):\n",
    "    new_tag = soup.new_tag('img')\n",
    "    new_tag.attrs['src'] = val.attrs['src']\n",
    "    val.replace_with(new_tag)\n",
    "\n",
    "content = article.prettify(\"latin-1\")"
   ]
  },
  {
   "cell_type": "code",
   "execution_count": 117,
   "metadata": {},
   "outputs": [],
   "source": [
    "with open(filename, 'wb') as file:\n",
    "    file.write(content)"
   ]
  },
  {
   "cell_type": "code",
   "execution_count": null,
   "metadata": {
    "collapsed": true
   },
   "outputs": [],
   "source": []
  },
  {
   "cell_type": "code",
   "execution_count": 118,
   "metadata": {
    "collapsed": true
   },
   "outputs": [],
   "source": []
  },
  {
   "cell_type": "code",
   "execution_count": 120,
   "metadata": {},
   "outputs": [],
   "source": [
    "def stripped_economist_article(url):\n",
    "    page = requests.get(url)\n",
    "    contents = page.content\n",
    "    soup = BeautifulSoup(contents, 'html.parser')\n",
    "    article = soup.find('article')\n",
    "\n",
    "    # Removing non-content\n",
    "    for val in article.select('.blog-post__asideable-wrapper'):\n",
    "        val.decompose()\n",
    "    for val in article.select('.newsletter-form.newsletter-form--inline'):\n",
    "        val.decompose()\n",
    "    for val in article.select('.latest-updates-panel__container.latest-updates-panel__container--blog-post'):\n",
    "        val.decompose()\n",
    "    for val in article.select('.blog-post__bottom-panel'):\n",
    "        val.decompose()\n",
    "    for val in article.select('.ad-panel__container--block'):\n",
    "        val.decompose()\n",
    "\n",
    "    # Formatting headers\n",
    "    for val in article.select('.blog-post__rubric'):\n",
    "        new_tag = soup.new_tag('h3')\n",
    "        new_tag.string = val.get_text()\n",
    "        val.replace_with(new_tag)\n",
    "\n",
    "    for val in article.select('.xhead'):\n",
    "        new_tag = soup.new_tag('h4')\n",
    "        new_tag.string = val.get_text()\n",
    "        val.replace_with(new_tag)\n",
    "\n",
    "    # Format hero image\n",
    "    for val in article.select('.component-image__img.blog-post__image-block'):\n",
    "        new_tag = soup.new_tag('img')\n",
    "        new_tag.attrs['src'] = val.attrs['src']\n",
    "        val.replace_with(new_tag)\n",
    "\n",
    "    return article.prettify(\"latin-1\")"
   ]
  },
  {
   "cell_type": "code",
   "execution_count": 123,
   "metadata": {},
   "outputs": [],
   "source": [
    "# Doing on list\n",
    "\n",
    "large_file = '/Users/carlos/Downloads/bstest2.html'\n",
    "f = open(large_file, 'wb')\n",
    "url_list = [\n",
    "    'https://www.economist.com/news/finance-and-economics/21741558-returns-education-over-past-half-century-have-beaten-american?cid1=cust/ddnew/email/n/n/2018053n/owned/n/n/ddnew/n/n/n/nLA/Daily_Dispatch/email&etear=dailydispatch&utm_source=newsletter&utm_medium=email&utm_campaign=Daily_Dispatch&utm_term=2018053',\n",
    "    'https://www.economist.com/news/world-week/21741607-business-week?cid1=cust/ednew/n/bl/n/2018053n/owned/n/n/nwl/n/n/LA/118974/n&utm_source=newsletter&utm_medium=email&utm_campaign=Editors_Picks&utm_term=2018053',\n",
    "    'https://www.economist.com/news/leaders/21741546-complacent-reckless-leaders-have-forgotten-how-valuable-it-restrain-nuclear?cid1=cust/ednew/n/bl/n/2018053n/owned/n/n/nwl/n/n/LA/118974/n&utm_source=newsletter&utm_medium=email&utm_campaign=Editors_Picks&utm_term=2018053'\n",
    "]\n",
    "\n",
    "for url in url_list:\n",
    "    content = stripped_economist_article(url)\n",
    "    content += b\"\\n<hr>\"\n",
    "    f.write(content)\n",
    "    \n",
    "f.close()"
   ]
  },
  {
   "cell_type": "code",
   "execution_count": null,
   "metadata": {
    "collapsed": true
   },
   "outputs": [],
   "source": []
  }
 ],
 "metadata": {
  "kernelspec": {
   "display_name": "Python 3",
   "language": "python",
   "name": "python3"
  },
  "language_info": {
   "codemirror_mode": {
    "name": "ipython",
    "version": 3
   },
   "file_extension": ".py",
   "mimetype": "text/x-python",
   "name": "python",
   "nbconvert_exporter": "python",
   "pygments_lexer": "ipython3",
   "version": "3.6.5"
  }
 },
 "nbformat": 4,
 "nbformat_minor": 2
}
